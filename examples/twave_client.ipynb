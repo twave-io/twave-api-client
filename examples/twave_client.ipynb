{
 "cells": [
  {
   "cell_type": "code",
   "execution_count": 1,
   "metadata": {},
   "outputs": [],
   "source": [
    "#!pip install git+https://github.com/twave-io/twave-api-client.git@0.1.1\n",
    "\n",
    "from os import environ\n",
    "import numpy as np\n",
    "import pandas as pd\n",
    "import matplotlib.pyplot as plt\n",
    "from twave_client import TWaveClient\n",
    "\n",
    "%matplotlib inline\n",
    "plt.rcParams['figure.figsize'] = [10, 5]"
   ]
  },
  {
   "cell_type": "markdown",
   "metadata": {},
   "source": [
    "## Accessing the TWave API"
   ]
  },
  {
   "cell_type": "code",
   "execution_count": 2,
   "metadata": {},
   "outputs": [],
   "source": [
    "#host = 'api.adif.twave.io'\n",
    "host = 'localhost:8080'\n",
    "token = environ['API_TOKEN']\n",
    "\n",
    "api = TWaveClient(host, token)"
   ]
  },
  {
   "cell_type": "markdown",
   "metadata": {},
   "source": [
    "## Listing assets"
   ]
  },
  {
   "cell_type": "code",
   "execution_count": 3,
   "metadata": {},
   "outputs": [
    {
     "name": "stdout",
     "output_type": "stream",
     "text": [
      "[Asset(id='Cl8xACci15o', version=0, created_at='2022-10-27T17:05:47Z', updated_at='2022-10-27T17:05:47Z', name='Marota', description='T8 8080880')]\n"
     ]
    }
   ],
   "source": [
    "assets = api.list_assets()\n",
    "print(assets)"
   ]
  },
  {
   "cell_type": "code",
   "execution_count": 4,
   "metadata": {},
   "outputs": [
    {
     "name": "stdout",
     "output_type": "stream",
     "text": [
      "Marota\n"
     ]
    }
   ],
   "source": [
    "asset = api.get_asset(assets[0].id)\n",
    "print(asset.name)"
   ]
  },
  {
   "cell_type": "markdown",
   "metadata": {},
   "source": [
    "## Listing metrics"
   ]
  },
  {
   "cell_type": "code",
   "execution_count": 5,
   "metadata": {},
   "outputs": [
    {
     "data": {
      "text/html": [
       "<div>\n",
       "<style scoped>\n",
       "    .dataframe tbody tr th:only-of-type {\n",
       "        vertical-align: middle;\n",
       "    }\n",
       "\n",
       "    .dataframe tbody tr th {\n",
       "        vertical-align: top;\n",
       "    }\n",
       "\n",
       "    .dataframe thead th {\n",
       "        text-align: right;\n",
       "    }\n",
       "</style>\n",
       "<table border=\"1\" class=\"dataframe\">\n",
       "  <thead>\n",
       "    <tr style=\"text-align: right;\">\n",
       "      <th></th>\n",
       "      <th>id</th>\n",
       "      <th>asset_id</th>\n",
       "      <th>name</th>\n",
       "      <th>data_type</th>\n",
       "      <th>enum_type</th>\n",
       "      <th>unit</th>\n",
       "      <th>limit_min</th>\n",
       "      <th>limit_max</th>\n",
       "      <th>has_alarm</th>\n",
       "      <th>agg_method</th>\n",
       "      <th>format</th>\n",
       "      <th>suffix</th>\n",
       "    </tr>\n",
       "  </thead>\n",
       "  <tbody>\n",
       "    <tr>\n",
       "      <th>0</th>\n",
       "      <td>ITyjaRqr4GI</td>\n",
       "      <td>Cl8xACci15o</td>\n",
       "      <td>strategy</td>\n",
       "      <td>int</td>\n",
       "      <td></td>\n",
       "      <td></td>\n",
       "      <td>0</td>\n",
       "      <td>0</td>\n",
       "      <td>False</td>\n",
       "      <td>mean</td>\n",
       "      <td></td>\n",
       "      <td></td>\n",
       "    </tr>\n",
       "    <tr>\n",
       "      <th>1</th>\n",
       "      <td>1ly8GlIIrpc</td>\n",
       "      <td>Cl8xACci15o</td>\n",
       "      <td>GEO1.bias</td>\n",
       "      <td>float</td>\n",
       "      <td></td>\n",
       "      <td>V</td>\n",
       "      <td>-24</td>\n",
       "      <td>24</td>\n",
       "      <td>False</td>\n",
       "      <td>mean</td>\n",
       "      <td></td>\n",
       "      <td></td>\n",
       "    </tr>\n",
       "    <tr>\n",
       "      <th>2</th>\n",
       "      <td>6r2wjDgV4q</td>\n",
       "      <td>Cl8xACci15o</td>\n",
       "      <td>state</td>\n",
       "      <td>enum</td>\n",
       "      <td>state.Cl8xACci15o</td>\n",
       "      <td></td>\n",
       "      <td>0</td>\n",
       "      <td>0</td>\n",
       "      <td>False</td>\n",
       "      <td>mean</td>\n",
       "      <td></td>\n",
       "      <td></td>\n",
       "    </tr>\n",
       "    <tr>\n",
       "      <th>3</th>\n",
       "      <td>CgSNR6y67ZW</td>\n",
       "      <td>Cl8xACci15o</td>\n",
       "      <td>PT100_2.bias</td>\n",
       "      <td>float</td>\n",
       "      <td></td>\n",
       "      <td>V</td>\n",
       "      <td>0</td>\n",
       "      <td>0</td>\n",
       "      <td>False</td>\n",
       "      <td>mean</td>\n",
       "      <td></td>\n",
       "      <td></td>\n",
       "    </tr>\n",
       "    <tr>\n",
       "      <th>4</th>\n",
       "      <td>EEGFhsFHN12</td>\n",
       "      <td>Cl8xACci15o</td>\n",
       "      <td>PPS.freq</td>\n",
       "      <td>float</td>\n",
       "      <td></td>\n",
       "      <td></td>\n",
       "      <td>0</td>\n",
       "      <td>100</td>\n",
       "      <td>False</td>\n",
       "      <td>mean</td>\n",
       "      <td></td>\n",
       "      <td></td>\n",
       "    </tr>\n",
       "    <tr>\n",
       "      <th>5</th>\n",
       "      <td>EcIGK5CuELO</td>\n",
       "      <td>Cl8xACci15o</td>\n",
       "      <td>PT100_2.val</td>\n",
       "      <td>float</td>\n",
       "      <td></td>\n",
       "      <td></td>\n",
       "      <td>0</td>\n",
       "      <td>100</td>\n",
       "      <td>False</td>\n",
       "      <td>mean</td>\n",
       "      <td></td>\n",
       "      <td></td>\n",
       "    </tr>\n",
       "    <tr>\n",
       "      <th>6</th>\n",
       "      <td>HOt1OT60eGf</td>\n",
       "      <td>Cl8xACci15o</td>\n",
       "      <td>PPS.bias</td>\n",
       "      <td>float</td>\n",
       "      <td></td>\n",
       "      <td>V</td>\n",
       "      <td>0</td>\n",
       "      <td>0</td>\n",
       "      <td>False</td>\n",
       "      <td>mean</td>\n",
       "      <td></td>\n",
       "      <td></td>\n",
       "    </tr>\n",
       "    <tr>\n",
       "      <th>7</th>\n",
       "      <td>4cYLzrcBhBI</td>\n",
       "      <td>Cl8xACci15o</td>\n",
       "      <td>load</td>\n",
       "      <td>float</td>\n",
       "      <td></td>\n",
       "      <td>G</td>\n",
       "      <td>0</td>\n",
       "      <td>0</td>\n",
       "      <td>False</td>\n",
       "      <td>mean</td>\n",
       "      <td></td>\n",
       "      <td></td>\n",
       "    </tr>\n",
       "    <tr>\n",
       "      <th>8</th>\n",
       "      <td>9I3oOzs0Rtw</td>\n",
       "      <td>Cl8xACci15o</td>\n",
       "      <td>PT100_1.bias</td>\n",
       "      <td>float</td>\n",
       "      <td></td>\n",
       "      <td>V</td>\n",
       "      <td>0</td>\n",
       "      <td>0</td>\n",
       "      <td>False</td>\n",
       "      <td>mean</td>\n",
       "      <td></td>\n",
       "      <td></td>\n",
       "    </tr>\n",
       "    <tr>\n",
       "      <th>9</th>\n",
       "      <td>BLIJQPl0gEq</td>\n",
       "      <td>Cl8xACci15o</td>\n",
       "      <td>GEO2.Peak</td>\n",
       "      <td>float</td>\n",
       "      <td></td>\n",
       "      <td></td>\n",
       "      <td>0</td>\n",
       "      <td>28</td>\n",
       "      <td>False</td>\n",
       "      <td>mean</td>\n",
       "      <td></td>\n",
       "      <td>pk</td>\n",
       "    </tr>\n",
       "    <tr>\n",
       "      <th>10</th>\n",
       "      <td>EkG8An1ipgF</td>\n",
       "      <td>Cl8xACci15o</td>\n",
       "      <td>PT100_1.val</td>\n",
       "      <td>float</td>\n",
       "      <td></td>\n",
       "      <td></td>\n",
       "      <td>0</td>\n",
       "      <td>100</td>\n",
       "      <td>False</td>\n",
       "      <td>mean</td>\n",
       "      <td></td>\n",
       "      <td></td>\n",
       "    </tr>\n",
       "    <tr>\n",
       "      <th>11</th>\n",
       "      <td>4pY1KLx5a0O</td>\n",
       "      <td>Cl8xACci15o</td>\n",
       "      <td>GEO2.bias</td>\n",
       "      <td>float</td>\n",
       "      <td></td>\n",
       "      <td>V</td>\n",
       "      <td>-24</td>\n",
       "      <td>24</td>\n",
       "      <td>False</td>\n",
       "      <td>mean</td>\n",
       "      <td></td>\n",
       "      <td></td>\n",
       "    </tr>\n",
       "    <tr>\n",
       "      <th>12</th>\n",
       "      <td>96ltNGn8lPd</td>\n",
       "      <td>Cl8xACci15o</td>\n",
       "      <td>GEO1.Peak</td>\n",
       "      <td>float</td>\n",
       "      <td></td>\n",
       "      <td></td>\n",
       "      <td>0</td>\n",
       "      <td>28</td>\n",
       "      <td>False</td>\n",
       "      <td>mean</td>\n",
       "      <td></td>\n",
       "      <td>pk</td>\n",
       "    </tr>\n",
       "    <tr>\n",
       "      <th>13</th>\n",
       "      <td>EdVjp9TzPt4</td>\n",
       "      <td>Cl8xACci15o</td>\n",
       "      <td>Trigger.bias</td>\n",
       "      <td>float</td>\n",
       "      <td></td>\n",
       "      <td>V</td>\n",
       "      <td>0</td>\n",
       "      <td>0</td>\n",
       "      <td>False</td>\n",
       "      <td>mean</td>\n",
       "      <td></td>\n",
       "      <td></td>\n",
       "    </tr>\n",
       "    <tr>\n",
       "      <th>14</th>\n",
       "      <td>LmZB6gJl116</td>\n",
       "      <td>Cl8xACci15o</td>\n",
       "      <td>speed</td>\n",
       "      <td>float</td>\n",
       "      <td></td>\n",
       "      <td>Hz</td>\n",
       "      <td>0</td>\n",
       "      <td>0</td>\n",
       "      <td>False</td>\n",
       "      <td>mean</td>\n",
       "      <td></td>\n",
       "      <td></td>\n",
       "    </tr>\n",
       "    <tr>\n",
       "      <th>15</th>\n",
       "      <td>ThW1p0F7gL</td>\n",
       "      <td>Cl8xACci15o</td>\n",
       "      <td>Trigger.val</td>\n",
       "      <td>float</td>\n",
       "      <td></td>\n",
       "      <td></td>\n",
       "      <td>0</td>\n",
       "      <td>100</td>\n",
       "      <td>False</td>\n",
       "      <td>mean</td>\n",
       "      <td></td>\n",
       "      <td></td>\n",
       "    </tr>\n",
       "    <tr>\n",
       "      <th>16</th>\n",
       "      <td>JbiE6nqrygJ</td>\n",
       "      <td>Cl8xACci15o</td>\n",
       "      <td>PPS.freq_span</td>\n",
       "      <td>float</td>\n",
       "      <td></td>\n",
       "      <td></td>\n",
       "      <td>0</td>\n",
       "      <td>1000000</td>\n",
       "      <td>False</td>\n",
       "      <td>mean</td>\n",
       "      <td></td>\n",
       "      <td></td>\n",
       "    </tr>\n",
       "  </tbody>\n",
       "</table>\n",
       "</div>"
      ],
      "text/plain": [
       "             id     asset_id           name data_type          enum_type unit  \\\n",
       "0   ITyjaRqr4GI  Cl8xACci15o       strategy       int                           \n",
       "1   1ly8GlIIrpc  Cl8xACci15o      GEO1.bias     float                       V   \n",
       "2    6r2wjDgV4q  Cl8xACci15o          state      enum  state.Cl8xACci15o        \n",
       "3   CgSNR6y67ZW  Cl8xACci15o   PT100_2.bias     float                       V   \n",
       "4   EEGFhsFHN12  Cl8xACci15o       PPS.freq     float                           \n",
       "5   EcIGK5CuELO  Cl8xACci15o    PT100_2.val     float                           \n",
       "6   HOt1OT60eGf  Cl8xACci15o       PPS.bias     float                       V   \n",
       "7   4cYLzrcBhBI  Cl8xACci15o           load     float                       G   \n",
       "8   9I3oOzs0Rtw  Cl8xACci15o   PT100_1.bias     float                       V   \n",
       "9   BLIJQPl0gEq  Cl8xACci15o      GEO2.Peak     float                           \n",
       "10  EkG8An1ipgF  Cl8xACci15o    PT100_1.val     float                           \n",
       "11  4pY1KLx5a0O  Cl8xACci15o      GEO2.bias     float                       V   \n",
       "12  96ltNGn8lPd  Cl8xACci15o      GEO1.Peak     float                           \n",
       "13  EdVjp9TzPt4  Cl8xACci15o   Trigger.bias     float                       V   \n",
       "14  LmZB6gJl116  Cl8xACci15o          speed     float                      Hz   \n",
       "15   ThW1p0F7gL  Cl8xACci15o    Trigger.val     float                           \n",
       "16  JbiE6nqrygJ  Cl8xACci15o  PPS.freq_span     float                           \n",
       "\n",
       "    limit_min  limit_max  has_alarm agg_method format suffix  \n",
       "0           0          0      False       mean                \n",
       "1         -24         24      False       mean                \n",
       "2           0          0      False       mean                \n",
       "3           0          0      False       mean                \n",
       "4           0        100      False       mean                \n",
       "5           0        100      False       mean                \n",
       "6           0          0      False       mean                \n",
       "7           0          0      False       mean                \n",
       "8           0          0      False       mean                \n",
       "9           0         28      False       mean            pk  \n",
       "10          0        100      False       mean                \n",
       "11        -24         24      False       mean                \n",
       "12          0         28      False       mean            pk  \n",
       "13          0          0      False       mean                \n",
       "14          0          0      False       mean                \n",
       "15          0        100      False       mean                \n",
       "16          0    1000000      False       mean                "
      ]
     },
     "execution_count": 5,
     "metadata": {},
     "output_type": "execute_result"
    }
   ],
   "source": [
    "metrics = api.list_metrics(asset=asset.id)\n",
    "pd.DataFrame(metrics)"
   ]
  },
  {
   "cell_type": "markdown",
   "metadata": {},
   "source": [
    "## Plotting a trend"
   ]
  },
  {
   "cell_type": "code",
   "execution_count": 6,
   "metadata": {},
   "outputs": [
    {
     "data": {
      "image/png": "[encoded data removed]",
      "text/plain": [
       "<Figure size 720x360 with 1 Axes>"
      ]
     },
     "metadata": {
      "needs_background": "light"
     },
     "output_type": "display_data"
    }
   ],
   "source": [
    "# obtain the first metric with a given name\n",
    "metric = api.list_metrics(name='PT100_1.val')[0]\n",
    "\n",
    "trend = api.get_trend(metric.id, window='10m')\n",
    "t, y = trend.get_data()\n",
    "t = np.array(t, dtype='datetime64[s]')\n",
    "plt.plot(t, y)\n",
    "plt.title(trend.meta.name)\n",
    "plt.grid(True)"
   ]
  },
  {
   "cell_type": "markdown",
   "metadata": {},
   "source": [
    "## Plotting a waveform"
   ]
  },
  {
   "cell_type": "code",
   "execution_count": 7,
   "metadata": {},
   "outputs": [
    {
     "data": {
      "text/html": [
       "<div>\n",
       "<style scoped>\n",
       "    .dataframe tbody tr th:only-of-type {\n",
       "        vertical-align: middle;\n",
       "    }\n",
       "\n",
       "    .dataframe tbody tr th {\n",
       "        vertical-align: top;\n",
       "    }\n",
       "\n",
       "    .dataframe thead th {\n",
       "        text-align: right;\n",
       "    }\n",
       "</style>\n",
       "<table border=\"1\" class=\"dataframe\">\n",
       "  <thead>\n",
       "    <tr style=\"text-align: right;\">\n",
       "      <th></th>\n",
       "      <th>id</th>\n",
       "      <th>asset_id</th>\n",
       "      <th>created_at</th>\n",
       "      <th>name</th>\n",
       "      <th>unit</th>\n",
       "      <th>data_format</th>\n",
       "    </tr>\n",
       "  </thead>\n",
       "  <tbody>\n",
       "    <tr>\n",
       "      <th>0</th>\n",
       "      <td>CFG8YHv8NvT</td>\n",
       "      <td>Cl8xACci15o</td>\n",
       "      <td>2022-10-27T17:05:47Z</td>\n",
       "      <td>GEO2.40KHZ.wave</td>\n",
       "      <td></td>\n",
       "      <td>float32</td>\n",
       "    </tr>\n",
       "    <tr>\n",
       "      <th>1</th>\n",
       "      <td>I3sKyptl8Mx</td>\n",
       "      <td>Cl8xACci15o</td>\n",
       "      <td>2022-10-27T17:05:47Z</td>\n",
       "      <td>GEO1.40KHZ.wave</td>\n",
       "      <td></td>\n",
       "      <td>float32</td>\n",
       "    </tr>\n",
       "  </tbody>\n",
       "</table>\n",
       "</div>"
      ],
      "text/plain": [
       "            id     asset_id            created_at             name unit  \\\n",
       "0  CFG8YHv8NvT  Cl8xACci15o  2022-10-27T17:05:47Z  GEO2.40KHZ.wave        \n",
       "1  I3sKyptl8Mx  Cl8xACci15o  2022-10-27T17:05:47Z  GEO1.40KHZ.wave        \n",
       "\n",
       "  data_format  \n",
       "0     float32  \n",
       "1     float32  "
      ]
     },
     "execution_count": 7,
     "metadata": {},
     "output_type": "execute_result"
    }
   ],
   "source": [
    "# list wave types\n",
    "waves = api.list_waves(asset=asset.id)\n",
    "pd.DataFrame(waves)"
   ]
  },
  {
   "cell_type": "code",
   "execution_count": 8,
   "metadata": {},
   "outputs": [
    {
     "data": {
      "text/plain": [
       "array(['2022-10-06T21:00:00', '2022-10-06T23:45:00',\n",
       "       '2022-10-07T00:45:00', ..., '2022-10-27T15:00:00',\n",
       "       '2022-10-27T15:15:00', '2022-10-27T16:00:00'],\n",
       "      dtype='datetime64[s]')"
      ]
     },
     "execution_count": 8,
     "metadata": {},
     "output_type": "execute_result"
    }
   ],
   "source": [
    "# obtain a list of snapshots from the first wave\n",
    "wave = waves[0]\n",
    "\n",
    "t = api.list_wave_data(wave.id)\n",
    "np.array(t, dtype='datetime64[s]')"
   ]
  },
  {
   "cell_type": "code",
   "execution_count": 9,
   "metadata": {},
   "outputs": [
    {
     "data": {
      "image/png": "[encoded data removed]",
      "text/plain": [
       "<Figure size 720x360 with 1 Axes>"
      ]
     },
     "metadata": {
      "needs_background": "light"
     },
     "output_type": "display_data"
    }
   ],
   "source": [
    "# plot the last available snapshot of the given wave\n",
    "wf = api.get_wave(wave.id, 'last')\n",
    "plt.plot(*wf.get_data())\n",
    "plt.title(wf.meta.name)\n",
    "plt.xlim([0, wf.get_duration()])\n",
    "plt.grid(True)"
   ]
  },
  {
   "cell_type": "markdown",
   "metadata": {},
   "source": [
    "## Plotting a spectrum"
   ]
  },
  {
   "cell_type": "code",
   "execution_count": 12,
   "metadata": {},
   "outputs": [
    {
     "data": {
      "text/html": [
       "<div>\n",
       "<style scoped>\n",
       "    .dataframe tbody tr th:only-of-type {\n",
       "        vertical-align: middle;\n",
       "    }\n",
       "\n",
       "    .dataframe tbody tr th {\n",
       "        vertical-align: top;\n",
       "    }\n",
       "\n",
       "    .dataframe thead th {\n",
       "        text-align: right;\n",
       "    }\n",
       "</style>\n",
       "<table border=\"1\" class=\"dataframe\">\n",
       "  <thead>\n",
       "    <tr style=\"text-align: right;\">\n",
       "      <th></th>\n",
       "    </tr>\n",
       "  </thead>\n",
       "  <tbody>\n",
       "  </tbody>\n",
       "</table>\n",
       "</div>"
      ],
      "text/plain": [
       "Empty DataFrame\n",
       "Columns: []\n",
       "Index: []"
      ]
     },
     "execution_count": 12,
     "metadata": {},
     "output_type": "execute_result"
    }
   ],
   "source": [
    "# list spectra types\n",
    "spectra = api.list_spectra(asset=asset.id)\n",
    "pd.DataFrame(spectra)"
   ]
  },
  {
   "cell_type": "code",
   "execution_count": 13,
   "metadata": {},
   "outputs": [
    {
     "ename": "IndexError",
     "evalue": "list index out of range",
     "output_type": "error",
     "traceback": [
      "\u001b[0;31m---------------------------------------------------------------------------\u001b[0m",
      "\u001b[0;31mIndexError\u001b[0m                                Traceback (most recent call last)",
      "Input \u001b[0;32mIn [13]\u001b[0m, in \u001b[0;36m<cell line: 2>\u001b[0;34m()\u001b[0m\n\u001b[1;32m      1\u001b[0m \u001b[38;5;66;03m# obtain a list of snapshots from the first spectrum\u001b[39;00m\n\u001b[0;32m----> 2\u001b[0m spec \u001b[38;5;241m=\u001b[39m \u001b[43mspectra\u001b[49m\u001b[43m[\u001b[49m\u001b[38;5;241;43m0\u001b[39;49m\u001b[43m]\u001b[49m\n\u001b[1;32m      4\u001b[0m t \u001b[38;5;241m=\u001b[39m api\u001b[38;5;241m.\u001b[39mlist_spectrum_data(spec\u001b[38;5;241m.\u001b[39mid)\n\u001b[1;32m      5\u001b[0m np\u001b[38;5;241m.\u001b[39marray(t, dtype\u001b[38;5;241m=\u001b[39m\u001b[38;5;124m'\u001b[39m\u001b[38;5;124mdatetime64[s]\u001b[39m\u001b[38;5;124m'\u001b[39m)\n",
      "\u001b[0;31mIndexError\u001b[0m: list index out of range"
     ]
    }
   ],
   "source": [
    "# obtain a list of snapshots from the first spectrum\n",
    "spec = spectra[0]\n",
    "\n",
    "t = api.list_spectrum_data(spec.id)\n",
    "np.array(t, dtype='datetime64[s]')"
   ]
  },
  {
   "cell_type": "code",
   "execution_count": 14,
   "metadata": {},
   "outputs": [
    {
     "ename": "NameError",
     "evalue": "name 'spec' is not defined",
     "output_type": "error",
     "traceback": [
      "\u001b[0;31m---------------------------------------------------------------------------\u001b[0m",
      "\u001b[0;31mNameError\u001b[0m                                 Traceback (most recent call last)",
      "Input \u001b[0;32mIn [14]\u001b[0m, in \u001b[0;36m<cell line: 1>\u001b[0;34m()\u001b[0m\n\u001b[0;32m----> 1\u001b[0m sp \u001b[38;5;241m=\u001b[39m api\u001b[38;5;241m.\u001b[39mget_spectrum(\u001b[43mspec\u001b[49m\u001b[38;5;241m.\u001b[39mid, \u001b[38;5;124m'\u001b[39m\u001b[38;5;124mlast\u001b[39m\u001b[38;5;124m'\u001b[39m)\n\u001b[1;32m      2\u001b[0m plt\u001b[38;5;241m.\u001b[39mplot(\u001b[38;5;241m*\u001b[39msp\u001b[38;5;241m.\u001b[39mget_data())\n\u001b[1;32m      3\u001b[0m plt\u001b[38;5;241m.\u001b[39mtitle(sp\u001b[38;5;241m.\u001b[39mmeta\u001b[38;5;241m.\u001b[39mname)\n",
      "\u001b[0;31mNameError\u001b[0m: name 'spec' is not defined"
     ]
    }
   ],
   "source": [
    "sp = api.get_spectrum(spec.id, 'last')\n",
    "plt.plot(*sp.get_data())\n",
    "plt.title(sp.meta.name)\n",
    "plt.xlim(0)\n",
    "plt.ylim(0)\n",
    "plt.grid(True)"
   ]
  },
  {
   "cell_type": "code",
   "execution_count": null,
   "metadata": {},
   "outputs": [],
   "source": []
  }
 ],
 "metadata": {
  "interpreter": {
   "hash": "4983fbc8e3c9805bd5e50f421e79ac4e6d7dca52de2ae6ac2d59e0357ac27263"
  },
  "kernelspec": {
   "display_name": "Python 3 (ipykernel)",
   "language": "python",
   "name": "python3"
  },
  "language_info": {
   "codemirror_mode": {
    "name": "ipython",
    "version": 3
   },
   "file_extension": ".py",
   "mimetype": "text/x-python",
   "name": "python",
   "nbconvert_exporter": "python",
   "pygments_lexer": "ipython3",
   "version": "3.8.10"
  }
 },
 "nbformat": 4,
 "nbformat_minor": 4
}
